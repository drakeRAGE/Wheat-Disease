{
 "cells": [
  {
   "cell_type": "code",
   "execution_count": 1,
   "id": "55f0115a",
   "metadata": {},
   "outputs": [
    {
     "name": "stdout",
     "output_type": "stream",
     "text": [
      "Class: Crown and Root Rot, Number of Images: 515\n",
      "Class: Healthy Wheat, Number of Images: 2505\n",
      "Class: Leaf Rust, Number of Images: 956\n",
      "Class: Septoria, Number of Images: 1144\n",
      "Class: Wheat Loose Smut, Number of Images: 730\n"
     ]
    }
   ],
   "source": [
    "import os\n",
    "\n",
    "# Define the path to your dataset directory\n",
    "dataset_path = r\"C:\\Users\\AMEY\\Downloads\\Training Set(Wheat Disease)\"\n",
    "\n",
    "# Initialize an empty dictionary to store class names and their corresponding image counts\n",
    "class_image_counts = {}\n",
    "\n",
    "# Loop through each subdirectory (class) in the dataset directory\n",
    "for class_name in os.listdir(dataset_path):\n",
    "    class_dir = os.path.join(dataset_path, class_name)\n",
    "    if os.path.isdir(class_dir):\n",
    "        # Count the number of images in the class directory\n",
    "        num_images = len(os.listdir(class_dir))\n",
    "        # Add the class name and its image count to the dictionary\n",
    "        class_image_counts[class_name] = num_images\n",
    "\n",
    "# Print the class names and their corresponding image counts\n",
    "for class_name, num_images in class_image_counts.items():\n",
    "    print(f\"Class: {class_name}, Number of Images: {num_images}\")\n"
   ]
  },
  {
   "cell_type": "code",
   "execution_count": null,
   "id": "fc2e2d39",
   "metadata": {},
   "outputs": [],
   "source": []
  }
 ],
 "metadata": {
  "kernelspec": {
   "display_name": "Python 3 (ipykernel)",
   "language": "python",
   "name": "python3"
  },
  "language_info": {
   "codemirror_mode": {
    "name": "ipython",
    "version": 3
   },
   "file_extension": ".py",
   "mimetype": "text/x-python",
   "name": "python",
   "nbconvert_exporter": "python",
   "pygments_lexer": "ipython3",
   "version": "3.9.13"
  }
 },
 "nbformat": 4,
 "nbformat_minor": 5
}
